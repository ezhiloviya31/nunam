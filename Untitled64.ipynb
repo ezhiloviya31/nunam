{
  "nbformat": 4,
  "nbformat_minor": 0,
  "metadata": {
    "colab": {
      "name": "Untitled64.ipynb",
      "provenance": []
    },
    "kernelspec": {
      "name": "python3",
      "display_name": "Python 3"
    },
    "language_info": {
      "name": "python"
    }
  },
  "cells": [
    {
      "cell_type": "code",
      "metadata": {
        "id": "XOeToD86quZW"
      },
      "source": [
        "using downsample method i did this assignment "
      ],
      "execution_count": null,
      "outputs": []
    },
    {
      "cell_type": "code",
      "metadata": {
        "id": "CGFhwljzqD73"
      },
      "source": [
        "import numpy as np\n",
        "from scipy import ndimage\n",
        "\n",
        "def block_mean(ar, fact):\n",
        "    assert isinstance(fact, int), type(fact)\n",
        "    sx, sy = ar.shape\n",
        "    X, Y = np.ogrid[0:sx, 0:sy]\n",
        "    regions = sy/fact * (X/fact) + Y/fact\n",
        "    res = ndimage.mean(ar, labels=regions, index=np.arange(regions.max() + 1))\n",
        "    res.shape = (sx/fact, sy/fact)\n",
        "    return res"
      ],
      "execution_count": 6,
      "outputs": []
    },
    {
      "cell_type": "code",
      "metadata": {
        "colab": {
          "base_uri": "https://localhost:8080/",
          "height": 214
        },
        "id": "SweK89LUqbWV",
        "outputId": "726fc023-1730-4bc6-da7d-f3f788008a06"
      },
      "source": [
        "from scipy.ndimage import convolve\n",
        "array_downsampled = convolve(array, \n",
        "                 np.array([[0.25,0.25],[0.25,0.25]]))[:array.shape[0]:2,:array.shape[1]:2]\n",
        "Share"
      ],
      "execution_count": 7,
      "outputs": [
        {
          "output_type": "error",
          "ename": "NameError",
          "evalue": "ignored",
          "traceback": [
            "\u001b[0;31m---------------------------------------------------------------------------\u001b[0m",
            "\u001b[0;31mNameError\u001b[0m                                 Traceback (most recent call last)",
            "\u001b[0;32m<ipython-input-7-104b460ff8ed>\u001b[0m in \u001b[0;36m<module>\u001b[0;34m()\u001b[0m\n\u001b[1;32m      1\u001b[0m \u001b[0;32mfrom\u001b[0m \u001b[0mscipy\u001b[0m\u001b[0;34m.\u001b[0m\u001b[0mndimage\u001b[0m \u001b[0;32mimport\u001b[0m \u001b[0mconvolve\u001b[0m\u001b[0;34m\u001b[0m\u001b[0;34m\u001b[0m\u001b[0m\n\u001b[0;32m----> 2\u001b[0;31m array_downsampled = convolve(array, \n\u001b[0m\u001b[1;32m      3\u001b[0m                  np.array([[0.25,0.25],[0.25,0.25]]))[:array.shape[0]:2,:array.shape[1]:2]\n\u001b[1;32m      4\u001b[0m \u001b[0mShare\u001b[0m\u001b[0;34m\u001b[0m\u001b[0;34m\u001b[0m\u001b[0m\n",
            "\u001b[0;31mNameError\u001b[0m: name 'array' is not defined"
          ]
        }
      ]
    },
    {
      "cell_type": "code",
      "metadata": {
        "colab": {
          "base_uri": "https://localhost:8080/",
          "height": 367
        },
        "id": "M37rydvHqf5s",
        "outputId": "291b5472-aa93-40d1-9a7c-1ea66f2f1edc"
      },
      "source": [
        "import xarray as xr\n",
        "import numpy as np\n",
        "import matplotlib.pyplot as plt\n",
        "\n",
        "fig, (ax1, ax2, ax3) = plt.subplots(1, 3, figsize=(15,5))\n",
        "\n",
        "# Create a 10x10 array of random numbers\n",
        "a = xr.DataArray(np.random.rand(10,10)*100, dims=['x', 'y'])\n",
        "\n",
        "# \"Downscale\" the array, mean of blocks of size (2x2)\n",
        "b = a.coarsen(x=2, y=2).mean()\n",
        "\n",
        "# \"Downscale\" the array, mean of blocks of size (5x5)\n",
        "c = a.coarsen(x=5, y=5).mean()\n",
        "\n",
        "\n",
        "# Plot and cosmetics\n",
        "a.plot(ax=ax1)\n",
        "ax1.set_title(\"Full Data\")\n",
        "\n",
        "b.plot(ax=ax2)\n",
        "ax2.set_title(\"mean of (2x2) boxes\")\n",
        "\n",
        "c.plot(ax=ax3)\n",
        "ax3.set_title(\"mean of (5x5) boxes\")"
      ],
      "execution_count": 8,
      "outputs": [
        {
          "output_type": "execute_result",
          "data": {
            "text/plain": [
              "Text(0.5, 1.0, 'mean of (5x5) boxes')"
            ]
          },
          "metadata": {
            "tags": []
          },
          "execution_count": 8
        },
        {
          "output_type": "display_data",
          "data": {
            "image/png": "[encoded data removed]",
            "text/plain": [
              "<Figure size 1080x360 with 6 Axes>"
            ]
          },
          "metadata": {
            "tags": [],
            "needs_background": "light"
          }
        }
      ]
    },
    {
      "cell_type": "code",
      "metadata": {
        "id": "43_rE7dkqbZX"
      },
      "source": [
        ""
      ],
      "execution_count": null,
      "outputs": []
    },
    {
      "cell_type": "code",
      "metadata": {
        "id": "oPqMxU9pqMTA"
      },
      "source": [
        ""
      ],
      "execution_count": null,
      "outputs": []
    }
  ]
}